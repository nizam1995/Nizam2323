{
 "cells": [
  {
   "cell_type": "markdown",
   "id": "45dd3d08",
   "metadata": {},
   "source": [
    "Dear sir, i have been facing the issue in loading the data  to SQL and its been more than a week and i am still stuck at the same point. \n",
    "Please assist me in resolving this issue. \n",
    "I have attached the relevant CSV. \n",
    "\n",
    "\n"
   ]
  },
  {
   "cell_type": "code",
   "execution_count": 1,
   "id": "4ac56e3e",
   "metadata": {},
   "outputs": [
    {
     "name": "stdout",
     "output_type": "stream",
     "text": [
      "True\n",
      "1007 (HY000): Can't create database 'attribute_dataset'; database exists\n"
     ]
    }
   ],
   "source": [
    "#creating database\n",
    "\n",
    "import mysql.connector as conn\n",
    "\n",
    "try:\n",
    "    mydb = conn.connect(host= 'localhost', user ='root', password=\"Root@1234\")\n",
    "    cursor = mydb.cursor()\n",
    "    # check if the connection is established\n",
    "    print(mydb.is_connected())\n",
    "\n",
    "    query = \"Create database Attribute_DataSet\"\n",
    "    \n",
    "    cursor.execute(query)\n",
    "    print(\"Database Created!!\")\n",
    "    mydb.close()\n",
    "except Exception as e:\n",
    "    mydb.close()\n",
    "    print(str(e))"
   ]
  },
  {
   "cell_type": "code",
   "execution_count": 2,
   "id": "31fb9d8b",
   "metadata": {},
   "outputs": [
    {
     "name": "stdout",
     "output_type": "stream",
     "text": [
      "True\n",
      "1050 (42S01): Table 'attribute_table' already exists\n"
     ]
    }
   ],
   "source": [
    "#creating table \n",
    "\n",
    "import mysql.connector as connection\n",
    "\n",
    "try:\n",
    "    mydb = connection.connect(host=\"localhost\", database = 'Attribute_DataSet',user=\"root\", passwd=\"Root@1234\",use_pure=True)\n",
    "    # check if the connection is established\n",
    "    print(mydb.is_connected())\n",
    "\n",
    "    query = \"CREATE TABLE Attribute_table (Dress_ID INT(10) , Style VARCHAR(20),Price VARCHAR(10),\" \\\n",
    "            \"Rating float(5), size VARCHAR(10)  , season VARCHAR(20) ,neckline Varchar(20), seleeveLength Varchar(10), waiseline Varchar(10), material Varchar(10), fabricType Varchar(10), decoration Varchar(10), pattern_type Varchar(10), record int(5) )\"\n",
    "\n",
    "    cursor = mydb.cursor() #create a cursor to execute queries\n",
    "    cursor.execute(query)\n",
    "    print(\"Table Created!!\")\n",
    "    mydb.close()\n",
    "except Exception as e:\n",
    "    mydb.close()\n",
    "    print(str(e))"
   ]
  },
  {
   "cell_type": "code",
   "execution_count": 3,
   "id": "def28c88",
   "metadata": {},
   "outputs": [
    {
     "name": "stdout",
     "output_type": "stream",
     "text": [
      "1136 (21S01): Column count doesn't match value count at row 1\n"
     ]
    }
   ],
   "source": [
    "#loading the data \n",
    "\n",
    "import pandas as pd\n",
    "import csv\n",
    "import mysql.connector as connection\n",
    "\n",
    "mydb = connection.connect(host='localhost', database = 'Attribute_DataSet' , user='root', passwd='Root@1234', use_pure= True)\n",
    "cur= mydb.cursor()\n",
    "try:\n",
    "\n",
    "    with open ('Attribute_DataSet.csv', 'r') as data:\n",
    "        next(data) # to skip the first rwo\n",
    "        next(data)\n",
    "        data_csv = csv.reader(data, delimiter = \",\")\n",
    "        #print (data_csv)\n",
    "        for i in data_csv:\n",
    "            for j in i :\n",
    "               # print(j)\n",
    "                cur.execute('INSERT INTO Attribute_table  values ({values})'.format(values=(j)))\n",
    "                print('all the data inserted')\n",
    "except  Exception as e:\n",
    "    print(e)\n",
    "    \n",
    "    \n",
    "mydb.commit()"
   ]
  },
  {
   "cell_type": "code",
   "execution_count": null,
   "id": "11af9bee",
   "metadata": {},
   "outputs": [],
   "source": [
    "#ERROR_ 1136 (21S01): Column count doesn't match value count at row 1"
   ]
  },
  {
   "cell_type": "markdown",
   "id": "1ef8be55",
   "metadata": {},
   "source": [
    "# When trying to load only  5 row data  of same file \n",
    "\n"
   ]
  },
  {
   "cell_type": "code",
   "execution_count": null,
   "id": "f99efdf1",
   "metadata": {},
   "outputs": [],
   "source": [
    "#Note_ new excel file created using pandas head  and file name test"
   ]
  },
  {
   "cell_type": "code",
   "execution_count": 4,
   "id": "3cb82f73",
   "metadata": {},
   "outputs": [
    {
     "name": "stdout",
     "output_type": "stream",
     "text": [
      "1136 (21S01): Column count doesn't match value count at row 1\n"
     ]
    }
   ],
   "source": [
    "import pandas as pd\n",
    "import csv\n",
    "import mysql.connector as connection\n",
    "\n",
    "mydb = connection.connect(host='localhost', database = 'Attribute_DataSet' , user='root', passwd='Root@1234', use_pure= True)\n",
    "cur= mydb.cursor()\n",
    "try:\n",
    "\n",
    "    with open ('test.csv', 'r') as data: # using first five row data  file \n",
    "        next(data) # to skip the first rwo\n",
    "       \n",
    "        data_csv = csv.reader(data, delimiter = \",\")\n",
    "        #print (data_csv)\n",
    "        for i in data_csv:\n",
    "            for j in i :\n",
    "                #print(j)\n",
    "                cur.execute('INSERT INTO Attribute_table  values ({values})'.format(values=(j)))\n",
    "                print('all the data inserted')\n",
    "except  Exception as e:\n",
    "    print(e)\n",
    "    \n",
    "    \n",
    "mydb.commit()"
   ]
  },
  {
   "cell_type": "code",
   "execution_count": null,
   "id": "b08a314f",
   "metadata": {},
   "outputs": [],
   "source": [
    "#ERROR_ 1136 (21S01): Column count doesn't match value count at row 1"
   ]
  },
  {
   "cell_type": "markdown",
   "id": "f563b386",
   "metadata": {},
   "source": [
    "# When trying to load only four columns of the same files "
   ]
  },
  {
   "cell_type": "markdown",
   "id": "7eddbbea",
   "metadata": {},
   "source": [
    "Note_ new file has been created and it has only four column of the same file  and file name is test 4"
   ]
  },
  {
   "cell_type": "code",
   "execution_count": 5,
   "id": "05d75852",
   "metadata": {},
   "outputs": [
    {
     "name": "stdout",
     "output_type": "stream",
     "text": [
      "True\n",
      "1050 (42S01): Table 'test_4' already exists\n"
     ]
    }
   ],
   "source": [
    "# creating table that has only four columns \n",
    "\n",
    "import mysql.connector as connection\n",
    "\n",
    "try:\n",
    "    mydb = connection.connect(host=\"localhost\", database = 'Attribute_DataSet',user=\"root\", passwd=\"Root@1234\",use_pure=True)\n",
    "    # check if the connection is established\n",
    "    print(mydb.is_connected())\n",
    "\n",
    "    query = \"CREATE TABLE test_4 ( Dress_ID INT(10) , Style VARCHAR(20),Price VARCHAR(10),Rating float(5)  )\"\n",
    "\n",
    "    cursor = mydb.cursor() #create a cursor to execute queries\n",
    "    cursor.execute(query)\n",
    "    print(\"Table Created!!\")\n",
    "    mydb.close()\n",
    "except Exception as e:\n",
    "    mydb.close()\n",
    "    print(str(e))"
   ]
  },
  {
   "cell_type": "code",
   "execution_count": 6,
   "id": "3b53c4fe",
   "metadata": {},
   "outputs": [
    {
     "name": "stdout",
     "output_type": "stream",
     "text": [
      "1136 (21S01): Column count doesn't match value count at row 1\n"
     ]
    }
   ],
   "source": [
    "# loading the in the new table that has four column \n",
    "import pandas as pd\n",
    "import csv\n",
    "import mysql.connector as connection\n",
    "\n",
    "mydb = connection.connect(host='localhost', database = 'Attribute_DataSet' , user='root', passwd='Root@1234', use_pure= True)\n",
    "cur= mydb.cursor()\n",
    "try:\n",
    "\n",
    "    with open ('test4.csv', 'r') as data:\n",
    "        next(data) # to skip the first rwo\n",
    "       \n",
    "        data_csv = csv.reader(data, delimiter = \",\")\n",
    "        #print (data_csv)\n",
    "        for i in data_csv:\n",
    "            for j in i :\n",
    "               # print(j)\n",
    "                cur.execute('INSERT INTO test_4  values ({values})'.format(values=(j)))\n",
    "                print('all the data inserted')\n",
    "except  Exception as e:\n",
    "    print(e)\n",
    "    \n",
    "    \n",
    "mydb.commit()"
   ]
  },
  {
   "cell_type": "code",
   "execution_count": null,
   "id": "74651577",
   "metadata": {},
   "outputs": [],
   "source": [
    "#ERROR_ 1136 (21S01): Column count doesn't match value count at row 1"
   ]
  },
  {
   "cell_type": "code",
   "execution_count": null,
   "id": "14814736",
   "metadata": {},
   "outputs": [],
   "source": []
  },
  {
   "cell_type": "code",
   "execution_count": null,
   "id": "a963228b",
   "metadata": {},
   "outputs": [],
   "source": []
  }
 ],
 "metadata": {
  "kernelspec": {
   "display_name": "Python 3 (ipykernel)",
   "language": "python",
   "name": "python3"
  },
  "language_info": {
   "codemirror_mode": {
    "name": "ipython",
    "version": 3
   },
   "file_extension": ".py",
   "mimetype": "text/x-python",
   "name": "python",
   "nbconvert_exporter": "python",
   "pygments_lexer": "ipython3",
   "version": "3.9.7"
  }
 },
 "nbformat": 4,
 "nbformat_minor": 5
}
