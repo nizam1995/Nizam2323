{
 "cells": [
  {
   "cell_type": "markdown",
   "id": "55988b49",
   "metadata": {},
   "source": [
    "Dear sir, i have been facing the issue in loading the data  to SQL and its been more than a week and i am still stuck at the same point. \n",
    "Please assist me in resolving this issue. \n",
    "I have attached the relevant CSV. \n",
    "\n",
    "\n"
   ]
  },
  {
   "cell_type": "code",
   "execution_count": null,
   "id": "6dabef2d",
   "metadata": {},
   "outputs": [],
   "source": [
    "#creating database\n",
    "\n",
    "import mysql.connector as conn\n",
    "\n",
    "try:\n",
    "    mydb = conn.connect(host= 'localhost', user ='root', password=\"Root@1234\")\n",
    "    cursor = mydb.cursor()\n",
    "    # check if the connection is established\n",
    "    print(mydb.is_connected())\n",
    "\n",
    "    query = \"Create database Attribute_DataSet\"\n",
    "    \n",
    "    cursor.execute(query)\n",
    "    print(\"Database Created!!\")\n",
    "    mydb.close()\n",
    "except Exception as e:\n",
    "    mydb.close()\n",
    "    print(str(e))"
   ]
  },
  {
   "cell_type": "code",
   "execution_count": null,
   "id": "b49479b9",
   "metadata": {},
   "outputs": [],
   "source": [
    "#creating table \n",
    "\n",
    "import mysql.connector as connection\n",
    "\n",
    "try:\n",
    "    mydb = connection.connect(host=\"localhost\", database = 'Attribute_DataSet',user=\"root\", passwd=\"Root@1234\",use_pure=True)\n",
    "    # check if the connection is established\n",
    "    print(mydb.is_connected())\n",
    "\n",
    "    query = \"CREATE TABLE Attribute_table (Dress_ID INT(10) , Style VARCHAR(20),Price VARCHAR(10),\" \\\n",
    "            \"Rating float(5), size VARCHAR(10)  , season VARCHAR(20) ,neckline Varchar(20), seleeveLength Varchar(10), waiseline Varchar(10), material Varchar(10), fabricType Varchar(10), decoration Varchar(10), pattern_type Varchar(10), record int(5) )\"\n",
    "\n",
    "    cursor = mydb.cursor() #create a cursor to execute queries\n",
    "    cursor.execute(query)\n",
    "    print(\"Table Created!!\")\n",
    "    mydb.close()\n",
    "except Exception as e:\n",
    "    mydb.close()\n",
    "    print(str(e))"
   ]
  },
  {
   "cell_type": "code",
   "execution_count": null,
   "id": "000eaa9b",
   "metadata": {},
   "outputs": [],
   "source": [
    "#loading the data \n",
    "\n",
    "import pandas as pd\n",
    "import csv\n",
    "import mysql.connector as connection\n",
    "\n",
    "mydb = connection.connect(host='localhost', database = 'Attribute_DataSet' , user='root', passwd='Root@1234', use_pure= True)\n",
    "cur= mydb.cursor()\n",
    "try:\n",
    "\n",
    "    with open ('Attribute_DataSet.csv', 'r') as data:\n",
    "        next(data) # to skip the first rwo\n",
    "        next(data)\n",
    "        data_csv = csv.reader(data, delimiter = \",\")\n",
    "        #print (data_csv)\n",
    "        for i in data_csv:\n",
    "            for j in i :\n",
    "               # print(j)\n",
    "                cur.execute('INSERT INTO Attribute_table  values ({values})'.format(values=(j)))\n",
    "                print('all the data inserted')\n",
    "except  Exception as e:\n",
    "    print(e)\n",
    "    \n",
    "    \n",
    "mydb.commit()"
   ]
  },
  {
   "cell_type": "code",
   "execution_count": null,
   "id": "f4d86e32",
   "metadata": {},
   "outputs": [],
   "source": [
    "#ERROR_ 1136 (21S01): Column count doesn't match value count at row 1"
   ]
  },
  {
   "cell_type": "markdown",
   "id": "263a47a7",
   "metadata": {},
   "source": [
    "# When trying to load only  5 row data  of same file \n",
    "\n"
   ]
  },
  {
   "cell_type": "code",
   "execution_count": null,
   "id": "3283f1d5",
   "metadata": {},
   "outputs": [],
   "source": [
    "#Note_ new excel file created using pandas head  and file name test"
   ]
  },
  {
   "cell_type": "code",
   "execution_count": null,
   "id": "03f0e7f1",
   "metadata": {},
   "outputs": [],
   "source": [
    "import pandas as pd\n",
    "import csv\n",
    "import mysql.connector as connection\n",
    "\n",
    "mydb = connection.connect(host='localhost', database = 'Attribute_DataSet' , user='root', passwd='Root@1234', use_pure= True)\n",
    "cur= mydb.cursor()\n",
    "try:\n",
    "\n",
    "    with open ('test.csv', 'r') as data: # using first five row data  file \n",
    "        next(data) # to skip the first rwo\n",
    "       \n",
    "        data_csv = csv.reader(data, delimiter = \",\")\n",
    "        #print (data_csv)\n",
    "        for i in data_csv:\n",
    "            for j in i :\n",
    "                #print(j)\n",
    "                cur.execute('INSERT INTO Attribute_table  values ({values})'.format(values=(j)))\n",
    "                print('all the data inserted')\n",
    "except  Exception as e:\n",
    "    print(e)\n",
    "    \n",
    "    \n",
    "mydb.commit()"
   ]
  },
  {
   "cell_type": "code",
   "execution_count": null,
   "id": "77f60a2e",
   "metadata": {},
   "outputs": [],
   "source": [
    "#ERROR_ 1136 (21S01): Column count doesn't match value count at row 1"
   ]
  },
  {
   "cell_type": "markdown",
   "id": "0d5055f0",
   "metadata": {},
   "source": [
    "# When trying to load only four columns of the same files "
   ]
  },
  {
   "cell_type": "markdown",
   "id": "599d9c3e",
   "metadata": {},
   "source": [
    "Note_ new file has been created and it has only four column of the same file  and file name is test 4"
   ]
  },
  {
   "cell_type": "code",
   "execution_count": null,
   "id": "54a51afb",
   "metadata": {},
   "outputs": [],
   "source": [
    "# creating table that has only four columns \n",
    "\n",
    "import mysql.connector as connection\n",
    "\n",
    "try:\n",
    "    mydb = connection.connect(host=\"localhost\", database = 'Attribute_DataSet',user=\"root\", passwd=\"Root@1234\",use_pure=True)\n",
    "    # check if the connection is established\n",
    "    print(mydb.is_connected())\n",
    "\n",
    "    query = \"CREATE TABLE test_4 ( Dress_ID INT(10) , Style VARCHAR(20),Price VARCHAR(10),Rating float(5)  )\"\n",
    "\n",
    "    cursor = mydb.cursor() #create a cursor to execute queries\n",
    "    cursor.execute(query)\n",
    "    print(\"Table Created!!\")\n",
    "    mydb.close()\n",
    "except Exception as e:\n",
    "    mydb.close()\n",
    "    print(str(e))"
   ]
  },
  {
   "cell_type": "code",
   "execution_count": null,
   "id": "6340d4a4",
   "metadata": {},
   "outputs": [],
   "source": [
    "# loading the in the new table that has four column \n",
    "import pandas as pd\n",
    "import csv\n",
    "import mysql.connector as connection\n",
    "\n",
    "mydb = connection.connect(host='localhost', database = 'Attribute_DataSet' , user='root', passwd='Root@1234', use_pure= True)\n",
    "cur= mydb.cursor()\n",
    "try:\n",
    "\n",
    "    with open ('test4.csv', 'r') as data:\n",
    "        next(data) # to skip the first rwo\n",
    "       \n",
    "        data_csv = csv.reader(data, delimiter = \",\")\n",
    "        #print (data_csv)\n",
    "        for i in data_csv:\n",
    "            for j in i :\n",
    "               # print(j)\n",
    "                cur.execute('INSERT INTO test_4  values ({values})'.format(values=(j)))\n",
    "                print('all the data inserted')\n",
    "except  Exception as e:\n",
    "    print(e)\n",
    "    \n",
    "    \n",
    "mydb.commit()"
   ]
  },
  {
   "cell_type": "code",
   "execution_count": null,
   "id": "ab2f7bb3",
   "metadata": {},
   "outputs": [],
   "source": [
    "#ERROR_ 1136 (21S01): Column count doesn't match value count at row 1"
   ]
  },
  {
   "cell_type": "code",
   "execution_count": null,
   "id": "5feee3df",
   "metadata": {},
   "outputs": [],
   "source": []
  }
 ],
 "metadata": {
  "kernelspec": {
   "display_name": "Python 3 (ipykernel)",
   "language": "python",
   "name": "python3"
  },
  "language_info": {
   "codemirror_mode": {
    "name": "ipython",
    "version": 3
   },
   "file_extension": ".py",
   "mimetype": "text/x-python",
   "name": "python",
   "nbconvert_exporter": "python",
   "pygments_lexer": "ipython3",
   "version": "3.9.7"
  }
 },
 "nbformat": 4,
 "nbformat_minor": 5
}
